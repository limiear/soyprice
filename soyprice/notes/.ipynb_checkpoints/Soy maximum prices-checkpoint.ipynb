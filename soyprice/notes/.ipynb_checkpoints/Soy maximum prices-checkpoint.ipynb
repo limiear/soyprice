{
 "metadata": {
  "name": "",
  "signature": "sha256:f8ca1583ad39f712aeccc4875ae2f7f21b357adcc45421bae6264951f3cddba2"
 },
 "nbformat": 3,
 "nbformat_minor": 0,
 "worksheets": [
  {
   "cells": [
    {
     "cell_type": "code",
     "collapsed": false,
     "input": [
      "import sys\n",
      "sys.path.append('../')"
     ],
     "language": "python",
     "metadata": {},
     "outputs": [],
     "prompt_number": 6
    },
    {
     "cell_type": "code",
     "collapsed": false,
     "input": [
      "from variables.core import get_var\n",
      "from datetime import datetime\n",
      "soy = get_var(name=u'soy/afascl')\n",
      "to_date = lambda m: datetime.strptime(m, '%Y-%m-%d').date()\n",
      "data = map(lambda c: (to_date(c['moment']), float(c['value'])), soy['changes'])\n",
      "years = sorted(list(set(map(lambda d: d[0].year, data))))\n",
      "print years\n",
      "print '-' * 80\n",
      "rank = {}\n",
      "for y in years:\n",
      "    values = filter(lambda d: d[0].year == y, data)\n",
      "    m = max(map(lambda v: v[1], values))\n",
      "    elems = filter(lambda v: v[1] > m * 0.96, values)\n",
      "    months = map(lambda e: e[0].month, elems)\n",
      "    print y, m, m * 0.96, months\n",
      "    for m in months:\n",
      "        rank[m] = rank.get(m, 0) - 1 / (y - 2017)\n",
      "print '-' * 80\n",
      "print rank\n",
      "{k:v for k, v in rank.items() if v > 13}"
     ],
     "language": "python",
     "metadata": {},
     "outputs": [
      {
       "output_type": "stream",
       "stream": "stdout",
       "text": [
        "[2007, 2008, 2009, 2010, 2011, 2012, 2013, 2014, 2015, 2016]\n",
        "--------------------------------------------------------------------------------\n",
        "2007 910.0 873.6 [12, 12, 12]\n",
        "2008 1173.0 1126.08 [2, 2, 2, 3]\n",
        "2009 1100.0 1056.0 [6, 6, 6, 6, 6, 6, 6, 6, 6, 6, 6, 7]\n",
        "2010 1470.0 1411.2 [12, 12, 12, 12, 12]\n",
        "2011 1500.0 1440.0 [1, 1, 1, 1, 1, 1, 1, 1, 2, 2, 2, 2, 2, 2, 2, 2]\n",
        "2012 2050.0 1968.0 [8, 8, 8, 8, 9, 9, 9, 9, 9, 9, 9, 9, 9, 9, 9, 9, 9, 9, 9, 10, 10, 10, 11, 11, 11, 11, 11, 11, 11, 11, 11, 11, 12, 12, 12, 12, 12, 12, 12, 12, 12, 12, 12, 12]\n",
        "2013 2300.0 2208.0 [11, 11, 11, 11, 11, 11, 11, 11, 11, 11, 11, 11, 11, 12, 12, 12, 12, 12, 12, 12, 12, 12, 12, 12, 12, 12, 12, 12, 12, 12, 12, 12]\n",
        "2014 3000.0 2880.0 [3]\n",
        "2015 3000.0 2880.0 [12, 12, 12, 12, 12, 12, 12, 12, 12, 12, 12, 12, 12, 12, 12, 12, 12, 12, 12, 12]\n",
        "2016 3650.0 3504.0 [2, 2, 2, 2, 2, 2, 2, 2, 2, 3, 3, 3]\n",
        "--------------------------------------------------------------------------------\n",
        "{1: 8, 2: 20, 3: 5, 6: 11, 7: 1, 8: 4, 9: 15, 10: 3, 11: 23, 12: 59}\n"
       ]
      },
      {
       "metadata": {},
       "output_type": "pyout",
       "prompt_number": 7,
       "text": [
        "{2: 20, 9: 15, 11: 23, 12: 59}"
       ]
      }
     ],
     "prompt_number": 7
    },
    {
     "cell_type": "code",
     "collapsed": false,
     "input": [
      "3000 * 1.3043"
     ],
     "language": "python",
     "metadata": {},
     "outputs": [
      {
       "metadata": {},
       "output_type": "pyout",
       "prompt_number": 8,
       "text": [
        "3912.9"
       ]
      }
     ],
     "prompt_number": 8
    }
   ],
   "metadata": {}
  }
 ]
}